





import obspy


import matplotlib.pyplot as plt





st = obspy.read('./data_seismic/broadband/o10z0_4893*6_20240730_2300.msd')


st


st.plot()
plt.show()





for tr in st :
    print(tr.stats)





starttime = obspy.UTCDateTime('2024-07-30T23:13:00')
endtime = obspy.UTCDateTime('2024-07-30T23:15:00')


tr_trim = st[0].copy().trim(starttime = starttime, endtime = endtime)


tr_trim.plot()











from obspy.clients.fdsn import Client


client = Client("ORFEUS")


starttime = obspy.UTCDateTime('2024-09-23T07:00:00')
endtime = obspy.UTCDateTime('2024-09-23T08:00:00')


waveform = client.get_waveforms('BE', 'UCC', '*','*Z',starttime = starttime, endtime = endtime)


waveform[0].plot()





starttime = obspy.UTCDateTime()
endtime = obspy.UTCDateTime()


waveform = client.get_waveforms()

















starttime = obspy.UTCDateTime()
endtime = obspy.UTCDateTime()


latitude = 
longitude = 


client = Client("ORFEUS")
stations = client.get_stations(latitude=latitude, longitude=longitude , maxradius = 20, starttime = starttime, endtime = endtime)





waveform = client.get_waveforms('GB', 'SOFL', '*','*Z',starttime = starttime, endtime = endtime)


waveform.plot()


waveform


waveform.merge()





from scipy.signal import spectrogram
import matplotlib.colors as clr
import numpy as np


f,t, Sxx = spectrogram(waveform[0].data, fs =waveform[0].stats.sampling_rate, nperseg=(60*10*100), noverlap=3*(60*10*100)/4)


waveform[0].stats.sampling_rate


fig = plt.figure(figsize=(10,5))
norm = clr.LogNorm(vmin=1e-6)
F,T = np.meshgrid(f,t)
plt.pcolormesh(T/3600,F,Sxx.T, norm=norm, cmap='hot')
plt.yscale('log')
plt.ylabel('Freq. (Hz)')
plt.xlabel('Time (h)')
clb = plt.colorbar()
clb.set_label('PSD')
plt.ylim(0.008,50)





waveform.filter('bandpass',freqmin='???', freqmax ='???')






