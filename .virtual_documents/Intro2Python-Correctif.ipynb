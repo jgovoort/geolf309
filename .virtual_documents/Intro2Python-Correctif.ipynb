









































## Afficher une variable
print('Hello world')


hello = 'Hello world'
print(hello)








v = 5


str(v)


'%i' %v 





'%.2f' %2.57863





'Le nombre réel %i, le nombre entier %.3f' %(8, 2.56845)


'Le nombre réel %.4f, le nombre entier %i' %(8, 2.56845)








liste = [1,2,'seismic', [2,'terre'], 2.5475]





print(liste), print('Longueur de la liste %i' %len(liste))





print(liste[3])


liste.append('Hello world')
print(liste)








liste.append([45,25])


print(liste)





import numpy as np


array = np.array([1,2,'seismic', 2.5475])
liste_bis = [1,2,'seismic', 2.5475]





for elem in liste_bis :
    print(elem)








for elem_array in array :
    print(elem_array)








for i, elem in enumerate(liste_bis) :
    print(i, elem)





for j, elem in enumerate(array) :
    print(j, elem)








for i in range(10) :
    print(i)





for i in range(5, 10) :
    print(i)





for i in range(0, 10, 5) : #(start, end, step)
    print(i)








dist = list(range(11))


print(dist)





liste_100 = list(range(1,101,2))


print(liste_100)





huge = np.array(range(1,101,2))


huge





huge_2 = np.arange(1,101,2)


huge_2








def paniers(pommes, poires) :
    '''
    Fonction très utile qui permet de savoir le nombre de fruits dans un panier
    '''
    fruits = pommes+poires
    return fruits





pommes = 15
poires = 17

fruits = paniers(pommes, poires)

print(fruits)








liste_pommes = [10,58,36,78,41,23,96,55]
liste_poires = [44,2,41,23,85,36,77,20]


total_fruits = []

for i, pomme in enumerate(liste_pommes) :
    poire = liste_poires[i]
    fruits = paniers(pomme, poire)
    total_fruits.append(fruits)
    print(i, pomme, poire, fruits)


print(total_fruits)








! pip install pandas





import pandas as pd
import matplotlib.pyplot as plt





data_csv = pd.read_csv('./data_csv/FreqBand_medianFilter3hours.csv', index_col='time')





data_csv


data_csv.median_400_600Hz, data_csv['median_400_600Hz']





fig = plt.figure(figsize=(15,3))
data_csv.median_400_600Hz.plot()

plt.xlabel('Time')
plt.ylabel('Flux (L/min)')














fbg = pd.read_csv('./data_csv/20240129T125931Z.txt', delimiter='\t', decimal = ',', index_col='Time [sec]')





fig = plt.figure(figsize=(15,3))
fbg['Wavelength 1[nm]'].plot()

plt.xlabel('Time')
plt.ylabel('Wavelength (nm)')



