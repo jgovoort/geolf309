{
 "cells": [
  {
   "cell_type": "markdown",
   "id": "cb83c744-13ec-42a5-a6d6-27f66ff57252",
   "metadata": {},
   "source": [
    "# Revision de quelques Base"
   ]
  },
  {
   "cell_type": "markdown",
   "id": "070697df-7ec6-4254-bfe4-7c1eed11ee48",
   "metadata": {},
   "source": [
    "## Modification d'un Jupyter Notebook - Markdown\n",
    "\n",
    "##### Le markdown vous permet d'écrire et structurer votre Jupyter Notebook. Pour changer une cellule de code vers Markdown, rien de plus simple! Cliquez sur le menu déroulant situé au-dessus et changer de code à Markdown. Pour les experts, vous pouvez également appuyer sur la touche *M* après avoir cliqué à gauche de la cellule."
   ]
  },
  {
   "attachments": {},
   "cell_type": "markdown",
   "id": "4c9e6782-56ff-4449-aadc-fad3f6dece9e",
   "metadata": {},
   "source": [
    "![image.png](./Images/markdown.png)"
   ]
  },
  {
   "cell_type": "markdown",
   "id": "b2985e40-8e7a-400e-aad7-69c7bc425a7f",
   "metadata": {},
   "source": [
    "### En pratique - Markdown"
   ]
  },
  {
   "cell_type": "raw",
   "id": "d97a9120-8d26-4f42-815e-7add5f97fa01",
   "metadata": {},
   "source": [
    "# Title"
   ]
  },
  {
   "cell_type": "raw",
   "id": "a15bcfc8-10d0-408f-82fd-0c1f047505ba",
   "metadata": {},
   "source": [
    "## Chapter 1"
   ]
  },
  {
   "cell_type": "markdown",
   "id": "77c8f002-86c1-457c-927c-8ba9272ec0f8",
   "metadata": {},
   "source": [
    "Crée le chapitre 1.1 dans la cellule suivante"
   ]
  },
  {
   "cell_type": "code",
   "execution_count": null,
   "id": "ad4e3b5b-cac6-4bda-bea9-afd6ade59d95",
   "metadata": {},
   "outputs": [],
   "source": []
  },
  {
   "cell_type": "markdown",
   "id": "40aff483-5973-4067-a5af-9283cae11d78",
   "metadata": {},
   "source": [
    "#### Les * permettent de de mettre le texte en **GRAS** ou en *Italique*"
   ]
  },
  {
   "cell_type": "raw",
   "id": "f52a8870-ada5-4a9a-83f5-11224c8307e9",
   "metadata": {},
   "source": [
    "**GRAS**, *Italique*"
   ]
  },
  {
   "cell_type": "markdown",
   "id": "f01d9df8-573d-4a44-a9a5-e7dbd9960115",
   "metadata": {},
   "source": [
    "Essaies par toi-même"
   ]
  },
  {
   "cell_type": "code",
   "execution_count": null,
   "id": "1c8aeee9-03e2-42f6-aaf1-840626af35d8",
   "metadata": {},
   "outputs": [],
   "source": []
  },
  {
   "cell_type": "markdown",
   "id": "f677dcac-4a92-4fe8-8dad-643c63e54544",
   "metadata": {},
   "source": [
    "# Python - Revoir les bases de programmation"
   ]
  },
  {
   "cell_type": "markdown",
   "id": "8775cbc5-40cc-4ec4-a84e-5cc3a2c9b285",
   "metadata": {},
   "source": [
    "## Quelques exemples de fonctions utiles "
   ]
  },
  {
   "cell_type": "code",
   "execution_count": 6,
   "id": "b47baa3d-6721-40fc-b609-61391a9d4ba1",
   "metadata": {},
   "outputs": [
    {
     "name": "stdout",
     "output_type": "stream",
     "text": [
      "Hello world\n"
     ]
    }
   ],
   "source": [
    "## Afficher une variable\n",
    "print('Hello world')"
   ]
  },
  {
   "cell_type": "code",
   "execution_count": null,
   "id": "1b2ba97a-9554-47de-a185-08ee7734a7cb",
   "metadata": {},
   "outputs": [],
   "source": [
    "hello = 'Hello world'\n",
    "print(hello)"
   ]
  },
  {
   "cell_type": "code",
   "execution_count": null,
   "id": "13260636-e428-4cb4-acfc-03da02e8b299",
   "metadata": {},
   "outputs": [],
   "source": []
  },
  {
   "cell_type": "markdown",
   "id": "08628ed7-0442-428f-a6fa-040e5f18489e",
   "metadata": {},
   "source": [
    "\n",
    "\n",
    "\n",
    "\n",
    "#### Les listes ! Elles commencent toujours par l'indice **0**. Tu peux déterminer sa longueur mais aussi extraire des valeurs ou en rajouter. Mais aussi mettre une liste dans une liste..."
   ]
  },
  {
   "cell_type": "code",
   "execution_count": 30,
   "id": "ab2870cd-4917-4a64-8036-60f44315e0b8",
   "metadata": {},
   "outputs": [],
   "source": [
    "liste = [1,2,'seismic', [2,'terre'], 2.5475]"
   ]
  },
  {
   "cell_type": "code",
   "execution_count": 31,
   "id": "adbd68fd-e146-4213-8b70-76e6f446f456",
   "metadata": {},
   "outputs": [
    {
     "name": "stdout",
     "output_type": "stream",
     "text": [
      "[1, 2, 'seismic', [2, 'terre'], 2.5475]\n",
      "Longueur de la liste 5\n"
     ]
    },
    {
     "data": {
      "text/plain": [
       "(None, None)"
      ]
     },
     "execution_count": 31,
     "metadata": {},
     "output_type": "execute_result"
    }
   ],
   "source": [
    "print(liste), print('Longueur de la liste %i' %len(liste))"
   ]
  },
  {
   "cell_type": "code",
   "execution_count": 32,
   "id": "202efe2a-8810-4ba1-8b45-1595d525be85",
   "metadata": {},
   "outputs": [
    {
     "name": "stdout",
     "output_type": "stream",
     "text": [
      "[2, 'terre']\n"
     ]
    }
   ],
   "source": [
    "print(liste[3])"
   ]
  },
  {
   "cell_type": "code",
   "execution_count": 33,
   "id": "67a1bd31-e509-4624-a992-391cdfac5dd2",
   "metadata": {},
   "outputs": [
    {
     "name": "stdout",
     "output_type": "stream",
     "text": [
      "[1, 2, 'seismic', [2, 'terre'], 2.5475, 'Hello world']\n"
     ]
    }
   ],
   "source": [
    "liste.append('Hello world')\n",
    "print(liste)"
   ]
  },
  {
   "cell_type": "markdown",
   "id": "43fba0b3-ccef-4a63-8be6-68ed8a86fce5",
   "metadata": {},
   "source": [
    "#### Rajoute une liste dans la liste"
   ]
  },
  {
   "cell_type": "code",
   "execution_count": null,
   "id": "4a5cc587-3cd1-4036-9dec-6910a8f015b7",
   "metadata": {},
   "outputs": [],
   "source": []
  },
  {
   "cell_type": "markdown",
   "id": "7d8a2bea-7cac-4606-841e-f333b9b48e05",
   "metadata": {},
   "source": [
    "#### Semblable à une liste, un array !"
   ]
  },
  {
   "cell_type": "code",
   "execution_count": 28,
   "id": "ac7b92ca-e0b0-4e3d-a045-14450c055188",
   "metadata": {},
   "outputs": [],
   "source": [
    "import numpy as np"
   ]
  },
  {
   "cell_type": "code",
   "execution_count": 37,
   "id": "13456de0-c71e-416a-912f-14f4f3a4a7ea",
   "metadata": {},
   "outputs": [],
   "source": [
    "array = np.array([1,2,'seismic', 2.5475])\n",
    "liste_bis = [1,2,'seismic', 2.5475]"
   ]
  },
  {
   "cell_type": "markdown",
   "id": "45c57a89-bda6-4a42-a20e-4cd106d497ec",
   "metadata": {},
   "source": [
    "#### Les boucles ! Elles permettent d'itérer les élements dans une liste ou tout autre object itérable"
   ]
  },
  {
   "cell_type": "code",
   "execution_count": 40,
   "id": "9dc26fd8-4a5c-415f-a0d7-cd34c0aca851",
   "metadata": {},
   "outputs": [
    {
     "name": "stdout",
     "output_type": "stream",
     "text": [
      "1\n",
      "2\n",
      "seismic\n",
      "2.5475\n"
     ]
    }
   ],
   "source": [
    "for elem in liste_bis :\n",
    "    print(elem)"
   ]
  },
  {
   "cell_type": "markdown",
   "id": "ef4eceeb-25cc-4a30-ac0e-5b26a5103dd6",
   "metadata": {},
   "source": [
    "#### Crée une boucle pour itérer les valeurs dans l'array"
   ]
  },
  {
   "cell_type": "code",
   "execution_count": null,
   "id": "8b61141a-dfda-4cd7-92ca-1daf98ff7b05",
   "metadata": {},
   "outputs": [],
   "source": []
  },
  {
   "cell_type": "markdown",
   "id": "37c826b9-e956-42cf-8a0a-a108b5f1bf60",
   "metadata": {},
   "source": [
    "#### Boucle enumerate, elle revoie en même temps l'indice de la variable et la variable"
   ]
  },
  {
   "cell_type": "code",
   "execution_count": 45,
   "id": "50982034-77e2-4264-93e9-4f4802563146",
   "metadata": {},
   "outputs": [
    {
     "name": "stdout",
     "output_type": "stream",
     "text": [
      "0 1\n",
      "1 2\n",
      "2 seismic\n",
      "3 2.5475\n"
     ]
    }
   ],
   "source": [
    "for i, elem in enumerate(liste_bis) :\n",
    "    print(i, elem)"
   ]
  },
  {
   "cell_type": "markdown",
   "id": "60cb9217-97df-4d32-af94-c59eef45ab01",
   "metadata": {},
   "source": [
    "#### Boucle Range"
   ]
  },
  {
   "cell_type": "code",
   "execution_count": 25,
   "id": "8404927c-f68d-459e-be00-82b704658aaf",
   "metadata": {},
   "outputs": [
    {
     "name": "stdout",
     "output_type": "stream",
     "text": [
      "0\n",
      "1\n",
      "2\n",
      "3\n",
      "4\n",
      "5\n",
      "6\n",
      "7\n",
      "8\n",
      "9\n"
     ]
    }
   ],
   "source": [
    "for i in range(10) :\n",
    "    print(i)"
   ]
  },
  {
   "cell_type": "code",
   "execution_count": 26,
   "id": "e72b180c-8da0-481a-825b-171cd96902e4",
   "metadata": {},
   "outputs": [
    {
     "name": "stdout",
     "output_type": "stream",
     "text": [
      "5\n",
      "6\n",
      "7\n",
      "8\n",
      "9\n"
     ]
    }
   ],
   "source": [
    "for i in range(5, 10) :\n",
    "    print(i)"
   ]
  },
  {
   "cell_type": "code",
   "execution_count": 27,
   "id": "7706c076-0d3c-4dd2-9dd3-4bfe7bdc0223",
   "metadata": {},
   "outputs": [
    {
     "name": "stdout",
     "output_type": "stream",
     "text": [
      "0\n",
      "5\n"
     ]
    }
   ],
   "source": [
    "for i in range(0, 10, 5) : #(start, end, step)\n",
    "    print(i)"
   ]
  },
  {
   "cell_type": "markdown",
   "id": "f8f2ebc6-59d0-497d-8cb8-ea7f5fa2fec6",
   "metadata": {},
   "source": [
    "#### On peut aussi utiliser les ranges pour faire une liste de valeurs!"
   ]
  },
  {
   "cell_type": "code",
   "execution_count": 23,
   "id": "43253c27-f2f8-49fc-9eee-cbaba7cee76f",
   "metadata": {},
   "outputs": [],
   "source": [
    "dist = list(range(10))"
   ]
  },
  {
   "cell_type": "code",
   "execution_count": 24,
   "id": "2e320057-4405-41c3-b551-c73eb3c707f3",
   "metadata": {},
   "outputs": [
    {
     "name": "stdout",
     "output_type": "stream",
     "text": [
      "[0, 1, 2, 3, 4, 5, 6, 7, 8, 9]\n"
     ]
    }
   ],
   "source": [
    "print(dist)"
   ]
  },
  {
   "cell_type": "markdown",
   "id": "f3c6e947-e6c3-4db9-8b1d-3cf1d5b7cc90",
   "metadata": {},
   "source": [
    "#### Realise une liste de 1 à 100 avec un pas de 2"
   ]
  },
  {
   "cell_type": "code",
   "execution_count": null,
   "id": "4f3048ae-f3d2-4cd1-beb4-c0a347ae3dd7",
   "metadata": {},
   "outputs": [],
   "source": []
  },
  {
   "cell_type": "code",
   "execution_count": null,
   "id": "c131af3b-1dff-4992-9ac8-0b47b1ce5ede",
   "metadata": {},
   "outputs": [],
   "source": []
  },
  {
   "cell_type": "markdown",
   "id": "43d01fe8-2d57-41c4-b813-7c317c08fc0d",
   "metadata": {},
   "source": [
    "## Création de fonctions"
   ]
  },
  {
   "cell_type": "code",
   "execution_count": 2,
   "id": "f8b7aa3e-9fe4-4289-a9c3-5133de73561d",
   "metadata": {},
   "outputs": [],
   "source": [
    "def paniers(pommes, poires) :\n",
    "    '''\n",
    "    Fonction très utile qui permet de savoir le nombre de fruits dans un panier\n",
    "    '''\n",
    "    fruits = pommes+poires\n",
    "    return fruits"
   ]
  },
  {
   "cell_type": "code",
   "execution_count": 3,
   "id": "a18d90e7-e795-451d-8bc7-b2293e2ce3bc",
   "metadata": {},
   "outputs": [
    {
     "name": "stdout",
     "output_type": "stream",
     "text": [
      "32\n"
     ]
    }
   ],
   "source": [
    "pommes = 15\n",
    "poires = 17\n",
    "\n",
    "fruits = paniers(pommes, poires)\n",
    "\n",
    "print(fruits)"
   ]
  },
  {
   "cell_type": "markdown",
   "id": "7c736d69-bf5e-4c9f-b73d-4f5e9a06e481",
   "metadata": {},
   "source": [
    "#### Utilise une boucle (loop) pour réaliser une liste de paniers soit la somme des pommes et poires"
   ]
  },
  {
   "cell_type": "code",
   "execution_count": 44,
   "id": "61581c7f-dd86-4e12-9776-46a71c0a4e3f",
   "metadata": {},
   "outputs": [],
   "source": [
    "liste_pommes = [10,58,36,78,41,23,96,55]\n",
    "liste_poires = [44,2,41,23,85,36,77,20]"
   ]
  },
  {
   "cell_type": "code",
   "execution_count": null,
   "id": "35e68905-6093-4151-90e3-56b71fe1644e",
   "metadata": {},
   "outputs": [],
   "source": []
  },
  {
   "cell_type": "markdown",
   "id": "c6530519-08f2-4ca2-95ef-346fe742212f",
   "metadata": {},
   "source": [
    "## Ouverture d'un CSV"
   ]
  },
  {
   "cell_type": "code",
   "execution_count": null,
   "id": "5a2af0e6-877b-4404-bae0-c3115ee5a794",
   "metadata": {},
   "outputs": [],
   "source": []
  }
 ],
 "metadata": {
  "kernelspec": {
   "display_name": "Python 3 (ipykernel)",
   "language": "python",
   "name": "python3"
  },
  "language_info": {
   "codemirror_mode": {
    "name": "ipython",
    "version": 3
   },
   "file_extension": ".py",
   "mimetype": "text/x-python",
   "name": "python",
   "nbconvert_exporter": "python",
   "pygments_lexer": "ipython3",
   "version": "3.10.9"
  }
 },
 "nbformat": 4,
 "nbformat_minor": 5
}
