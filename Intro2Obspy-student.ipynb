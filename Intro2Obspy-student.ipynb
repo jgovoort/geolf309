{
 "cells": [
  {
   "cell_type": "markdown",
   "id": "1f02d038-9aec-4063-a239-805891e77ab4",
   "metadata": {},
   "source": [
    "# Les bases d'Obspy - Bibliothèque dédiée à la sismologie"
   ]
  },
  {
   "cell_type": "markdown",
   "id": "193da60c-cc84-47ba-b544-d04e95594fdf",
   "metadata": {},
   "source": [
    "## Importer la bibliothèque Obspy"
   ]
  },
  {
   "cell_type": "code",
   "execution_count": null,
   "id": "f918d669-6399-4331-8aca-4fa003dbb28d",
   "metadata": {},
   "outputs": [],
   "source": [
    "import obspy"
   ]
  },
  {
   "cell_type": "code",
   "execution_count": null,
   "id": "f9970d9b-c22e-4b1f-8c67-81aebea83460",
   "metadata": {},
   "outputs": [],
   "source": [
    "import matplotlib.pyplot as plt"
   ]
  },
  {
   "cell_type": "markdown",
   "id": "b17d95f2-3b64-41e3-8e7f-e63e75fb99d5",
   "metadata": {},
   "source": [
    "## Lire un fichier contenant une trace sismique"
   ]
  },
  {
   "cell_type": "code",
   "execution_count": null,
   "id": "2e5491b4-8e45-4b4d-bbb1-f5de967e7af4",
   "metadata": {},
   "outputs": [],
   "source": [
    "st = obspy.read('./data_seismic/broadband/o10z0_4893*6_20240730_2300.msd')"
   ]
  },
  {
   "cell_type": "code",
   "execution_count": null,
   "id": "d2a5296b-2cc4-403a-b0ff-ea1f04011294",
   "metadata": {},
   "outputs": [],
   "source": [
    "st"
   ]
  },
  {
   "cell_type": "code",
   "execution_count": null,
   "id": "d02c3b55-6426-4003-a8e2-e659d8c8b342",
   "metadata": {},
   "outputs": [],
   "source": [
    "st.plot()\n",
    "plt.show()"
   ]
  },
  {
   "cell_type": "markdown",
   "id": "b3ba7369-7ccd-405d-92d3-81a899f80485",
   "metadata": {},
   "source": [
    "### Information sur les traces sismiques"
   ]
  },
  {
   "cell_type": "code",
   "execution_count": null,
   "id": "84945d2b-c36c-476a-96b6-2b443380b612",
   "metadata": {},
   "outputs": [],
   "source": [
    "for tr in st :\n",
    "    print(tr.stats)"
   ]
  },
  {
   "cell_type": "markdown",
   "id": "3dbb293b-2dbb-48b4-b944-8419ee9e02d9",
   "metadata": {},
   "source": [
    "### Couper le signal"
   ]
  },
  {
   "cell_type": "code",
   "execution_count": null,
   "id": "42901e61-121a-4d82-b1b2-26e4413f7405",
   "metadata": {},
   "outputs": [],
   "source": [
    "starttime = obspy.UTCDateTime('2024-07-30T23:13:00')\n",
    "endtime = obspy.UTCDateTime('2024-07-30T23:15:00')"
   ]
  },
  {
   "cell_type": "code",
   "execution_count": null,
   "id": "494f0f01-1359-4cc4-a79f-1a44b5cc426b",
   "metadata": {},
   "outputs": [],
   "source": [
    "tr_trim = st[0].copy().trim(starttime = starttime, endtime = endtime)"
   ]
  },
  {
   "cell_type": "code",
   "execution_count": null,
   "id": "06db29f8-79c6-4984-ba56-c823c744aea1",
   "metadata": {},
   "outputs": [],
   "source": [
    "tr_trim.plot()"
   ]
  },
  {
   "cell_type": "markdown",
   "id": "13f2c973-ce41-4514-b1db-a35a8097ecb0",
   "metadata": {},
   "source": [
    "### __*Exercice :*__ Faire la même chose pour toutes les composantes"
   ]
  },
  {
   "cell_type": "code",
   "execution_count": null,
   "id": "68b3890f-ee67-4c59-a934-7407bbc0543f",
   "metadata": {},
   "outputs": [],
   "source": []
  },
  {
   "cell_type": "markdown",
   "id": "83b836a0-496b-43c7-8f2d-549b84f96d18",
   "metadata": {},
   "source": [
    "## Importation de données depuis un DataCenter"
   ]
  },
  {
   "cell_type": "code",
   "execution_count": null,
   "id": "6aee10f0-2fc3-4bd5-ba09-58b22f451f7b",
   "metadata": {},
   "outputs": [],
   "source": [
    "from obspy.clients.fdsn import Client"
   ]
  },
  {
   "cell_type": "code",
   "execution_count": null,
   "id": "e73743fd-9eda-4a26-90ef-a63d148812ad",
   "metadata": {},
   "outputs": [],
   "source": [
    "client = Client(\"ORFEUS\")"
   ]
  },
  {
   "cell_type": "code",
   "execution_count": null,
   "id": "e39b9fd2-99be-450a-a405-4bdd2fbbcb28",
   "metadata": {},
   "outputs": [],
   "source": [
    "starttime = obspy.UTCDateTime('2024-09-23T07:00:00')\n",
    "endtime = obspy.UTCDateTime('2024-09-23T08:00:00')"
   ]
  },
  {
   "cell_type": "code",
   "execution_count": null,
   "id": "42e2fdd6-0cd6-4ac0-a6fc-5b76025473c1",
   "metadata": {},
   "outputs": [],
   "source": [
    "waveform = client.get_waveforms('BE', 'UCC', '*','*Z',starttime = starttime, endtime = endtime)"
   ]
  },
  {
   "cell_type": "code",
   "execution_count": null,
   "id": "023fb44e-f021-4b41-91a2-52a81b97acbd",
   "metadata": {},
   "outputs": [],
   "source": [
    "waveform[0].plot()"
   ]
  },
  {
   "cell_type": "markdown",
   "id": "ac3eb562-7056-4cbc-8c56-cb1fcea016a8",
   "metadata": {},
   "source": [
    "### __*Exercice :*__  Rendez-vous sur l'URL : https://ds.iris.edu/gmap/"
   ]
  },
  {
   "cell_type": "code",
   "execution_count": null,
   "id": "563538f9-ff57-45f2-8ee5-78c23b5bca31",
   "metadata": {},
   "outputs": [],
   "source": [
    "starttime = obspy.UTCDateTime()\n",
    "endtime = obspy.UTCDateTime()"
   ]
  },
  {
   "cell_type": "code",
   "execution_count": null,
   "id": "df513fd1-8ab8-4262-b1d2-9fd2f5964abe",
   "metadata": {},
   "outputs": [],
   "source": [
    "waveform = client.get_waveforms()"
   ]
  },
  {
   "cell_type": "code",
   "execution_count": null,
   "id": "d90a34b5-1043-4671-befd-83bee6d69084",
   "metadata": {},
   "outputs": [],
   "source": []
  },
  {
   "cell_type": "markdown",
   "id": "f9568dee-6600-4696-b59e-65c0cab552fe",
   "metadata": {},
   "source": [
    "# Analyse du glissement de terrain"
   ]
  },
  {
   "cell_type": "markdown",
   "id": "850579e0-7dbe-4ff4-a3ac-85c673e003b9",
   "metadata": {},
   "source": [
    "https://aura.abdn.ac.uk/bitstream/handle/2164/24232/Svenneig_etal_S_A_Rocklide_Generated_AAM.pdf"
   ]
  },
  {
   "cell_type": "markdown",
   "id": "bbc5420d-8eda-4471-a26b-532d21d937f1",
   "metadata": {},
   "source": [
    "![image.png](./Images/glissement_terrain.png)"
   ]
  },
  {
   "cell_type": "markdown",
   "id": "9fb5ce26-4c21-41bd-9ad8-add1de9f6070",
   "metadata": {},
   "source": [
    "## __*Exercice :*__ "
   ]
  },
  {
   "cell_type": "code",
   "execution_count": null,
   "id": "42317d4a-e207-48ea-8d0c-bb687876fbe9",
   "metadata": {},
   "outputs": [],
   "source": [
    "starttime = obspy.UTCDateTime()\n",
    "endtime = obspy.UTCDateTime()"
   ]
  },
  {
   "cell_type": "code",
   "execution_count": null,
   "id": "165bded0-231f-481e-a1d7-c3ebc2c14da9",
   "metadata": {},
   "outputs": [],
   "source": [
    "latitude = \n",
    "longitude = "
   ]
  },
  {
   "cell_type": "code",
   "execution_count": null,
   "id": "50493ddb-d8e8-4bc5-a4c4-1944332d1061",
   "metadata": {},
   "outputs": [],
   "source": [
    "client = Client(\"ORFEUS\")\n",
    "stations = client.get_stations(latitude=latitude, longitude=longitude , maxradius = 20, starttime = starttime, endtime = endtime)"
   ]
  },
  {
   "cell_type": "markdown",
   "id": "8a3fe7f3-1274-4ec8-9aa5-038d72d7203e",
   "metadata": {},
   "source": [
    "## Utilisation de la station SOFL en Ecosse"
   ]
  },
  {
   "cell_type": "code",
   "execution_count": null,
   "id": "74b6c5f0-47c7-400b-90c4-b580fab584e0",
   "metadata": {},
   "outputs": [],
   "source": [
    "waveform = client.get_waveforms('GB', 'SOFL', '*','*Z',starttime = starttime, endtime = endtime)"
   ]
  },
  {
   "cell_type": "code",
   "execution_count": null,
   "id": "a0a76ee3-20c1-4c64-b425-8f87ec442620",
   "metadata": {},
   "outputs": [],
   "source": [
    "waveform.plot()"
   ]
  },
  {
   "cell_type": "code",
   "execution_count": null,
   "id": "c5ed0959-c225-44fa-8299-20df06eef175",
   "metadata": {},
   "outputs": [],
   "source": [
    "waveform"
   ]
  },
  {
   "cell_type": "code",
   "execution_count": null,
   "id": "cf7437f9-c0fe-48bd-b458-16f774017bad",
   "metadata": {},
   "outputs": [],
   "source": [
    "waveform.merge()"
   ]
  },
  {
   "cell_type": "markdown",
   "id": "5ae2b2b8-f160-4023-be60-a602d416a08d",
   "metadata": {},
   "source": [
    "### Faire un spectrogram"
   ]
  },
  {
   "cell_type": "code",
   "execution_count": null,
   "id": "555d4b57-272f-4f91-9253-b510768ca0b5",
   "metadata": {},
   "outputs": [],
   "source": [
    "from scipy.signal import spectrogram\n",
    "import matplotlib.colors as clr\n",
    "import numpy as np"
   ]
  },
  {
   "cell_type": "code",
   "execution_count": null,
   "id": "7a83b57f-3ac4-4ef0-b39b-6dc85f3a777b",
   "metadata": {},
   "outputs": [],
   "source": [
    "f,t, Sxx = spectrogram(waveform[0].data, fs =waveform[0].stats.sampling_rate, nperseg=(60*10*100), noverlap=3*(60*10*100)/4)"
   ]
  },
  {
   "cell_type": "code",
   "execution_count": null,
   "id": "ed35a521-babf-4143-9092-16e9fbf8d64f",
   "metadata": {},
   "outputs": [],
   "source": [
    "waveform[0].stats.sampling_rate"
   ]
  },
  {
   "cell_type": "code",
   "execution_count": null,
   "id": "0243d7e4-eb86-4416-bceb-08a3246615ef",
   "metadata": {},
   "outputs": [],
   "source": [
    "fig = plt.figure(figsize=(10,5))\n",
    "norm = clr.LogNorm(vmin=1e-6)\n",
    "F,T = np.meshgrid(f,t)\n",
    "plt.pcolormesh(T/3600,F,Sxx.T, norm=norm, cmap='hot')\n",
    "plt.yscale('log')\n",
    "plt.ylabel('Freq. (Hz)')\n",
    "plt.xlabel('Time (h)')\n",
    "clb = plt.colorbar()\n",
    "clb.set_label('PSD')\n",
    "plt.ylim(0.008,50)"
   ]
  },
  {
   "cell_type": "markdown",
   "id": "5f6cee21-dd3b-4c7e-8bf8-937f49917a87",
   "metadata": {},
   "source": [
    "### Filtrer le signal"
   ]
  },
  {
   "cell_type": "code",
   "execution_count": null,
   "id": "83f8b094-b209-47be-8510-ed54ef8420f5",
   "metadata": {},
   "outputs": [],
   "source": [
    "waveform.filter('bandpass',freqmin='???', freqmax ='???')"
   ]
  },
  {
   "cell_type": "markdown",
   "id": "12f4a013-2c4d-4813-b06e-5fae9c0e97d6",
   "metadata": {},
   "source": [
    "#### __*Exercice :*__  Affichez le graphique et couper le signal !"
   ]
  },
  {
   "cell_type": "code",
   "execution_count": null,
   "id": "d0d45e51-fabe-4d86-9a78-ae1eac64ea37",
   "metadata": {},
   "outputs": [],
   "source": []
  }
 ],
 "metadata": {
  "kernelspec": {
   "display_name": "Python 3 (ipykernel)",
   "language": "python",
   "name": "python3"
  },
  "language_info": {
   "codemirror_mode": {
    "name": "ipython",
    "version": 3
   },
   "file_extension": ".py",
   "mimetype": "text/x-python",
   "name": "python",
   "nbconvert_exporter": "python",
   "pygments_lexer": "ipython3",
   "version": "3.10.9"
  }
 },
 "nbformat": 4,
 "nbformat_minor": 5
}
