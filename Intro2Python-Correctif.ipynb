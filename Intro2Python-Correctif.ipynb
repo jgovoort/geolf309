{
 "cells": [
  {
   "cell_type": "markdown",
   "id": "cb83c744-13ec-42a5-a6d6-27f66ff57252",
   "metadata": {},
   "source": [
    "# Revision de quelques bases"
   ]
  },
  {
   "cell_type": "markdown",
   "id": "070697df-7ec6-4254-bfe4-7c1eed11ee48",
   "metadata": {},
   "source": [
    "## Modification d'un Jupyter Notebook - Markdown\n",
    "\n",
    "##### Le markdown vous permet d'écrire et structurer votre Jupyter Notebook. Pour changer une cellule de code vers Markdown, rien de plus simple! Cliquez sur le menu déroulant situé au-dessus et changer de code à Markdown. Pour les experts, vous pouvez également appuyer sur la touche *M* après avoir cliqué à gauche de la cellule."
   ]
  },
  {
   "attachments": {},
   "cell_type": "markdown",
   "id": "4c9e6782-56ff-4449-aadc-fad3f6dece9e",
   "metadata": {},
   "source": [
    "![image.png](./Images/markdown.png)"
   ]
  },
  {
   "cell_type": "markdown",
   "id": "b2985e40-8e7a-400e-aad7-69c7bc425a7f",
   "metadata": {},
   "source": [
    "### En pratique - Markdown"
   ]
  },
  {
   "cell_type": "raw",
   "id": "d97a9120-8d26-4f42-815e-7add5f97fa01",
   "metadata": {},
   "source": [
    "# Title"
   ]
  },
  {
   "cell_type": "raw",
   "id": "a15bcfc8-10d0-408f-82fd-0c1f047505ba",
   "metadata": {},
   "source": [
    "## Chapter 1"
   ]
  },
  {
   "cell_type": "markdown",
   "id": "77c8f002-86c1-457c-927c-8ba9272ec0f8",
   "metadata": {},
   "source": [
    "__*Exercice :*__  Crée le chapitre 1.1 dans la cellule suivante"
   ]
  },
  {
   "cell_type": "markdown",
   "id": "25c07e69-689b-4dd3-bb69-6c97725ccead",
   "metadata": {},
   "source": [
    "### Chapter 1.1"
   ]
  },
  {
   "cell_type": "markdown",
   "id": "40aff483-5973-4067-a5af-9283cae11d78",
   "metadata": {},
   "source": [
    "#### Les * permettent de de mettre le texte en **GRAS** ou en *Italique*"
   ]
  },
  {
   "cell_type": "raw",
   "id": "f52a8870-ada5-4a9a-83f5-11224c8307e9",
   "metadata": {},
   "source": [
    "**GRAS**, *Italique*"
   ]
  },
  {
   "cell_type": "markdown",
   "id": "f01d9df8-573d-4a44-a9a5-e7dbd9960115",
   "metadata": {},
   "source": [
    "__*Exercice :*__ Essaye par toi-même"
   ]
  },
  {
   "cell_type": "markdown",
   "id": "2f2b6459-07bf-467a-a483-a10ce9e792c5",
   "metadata": {},
   "source": [
    "**GRAS** , __GRAS__, __*Italique gras*__"
   ]
  },
  {
   "cell_type": "markdown",
   "id": "f677dcac-4a92-4fe8-8dad-643c63e54544",
   "metadata": {},
   "source": [
    "# Python - Revoir les bases de programmation"
   ]
  },
  {
   "cell_type": "markdown",
   "id": "8775cbc5-40cc-4ec4-a84e-5cc3a2c9b285",
   "metadata": {},
   "source": [
    "## Quelques exemples de fonctions utiles "
   ]
  },
  {
   "cell_type": "code",
   "execution_count": 2,
   "id": "b47baa3d-6721-40fc-b609-61391a9d4ba1",
   "metadata": {},
   "outputs": [
    {
     "name": "stdout",
     "output_type": "stream",
     "text": [
      "Hello world\n"
     ]
    }
   ],
   "source": [
    "## Afficher une variable\n",
    "print('Hello world')"
   ]
  },
  {
   "cell_type": "code",
   "execution_count": 3,
   "id": "1b2ba97a-9554-47de-a185-08ee7734a7cb",
   "metadata": {},
   "outputs": [
    {
     "name": "stdout",
     "output_type": "stream",
     "text": [
      "Hello world\n"
     ]
    }
   ],
   "source": [
    "hello = 'Hello world'\n",
    "print(hello)"
   ]
  },
  {
   "cell_type": "markdown",
   "id": "f3e58c7b-ea2a-4deb-b5e8-590a68630574",
   "metadata": {},
   "source": [
    "**Explication** : Ici, on assigne la chaine de caractères \"hello world\" à la variable hello. Ensuite, on affiche la valeur contenue dans la variable hello avec la fonction print()"
   ]
  },
  {
   "cell_type": "markdown",
   "id": "f105e8ff-b805-499e-8424-df21e804bfa0",
   "metadata": {},
   "source": [
    "## Les chaines de caractères"
   ]
  },
  {
   "cell_type": "code",
   "execution_count": 4,
   "id": "93121288-6ad5-42da-ba09-f4577e309d44",
   "metadata": {},
   "outputs": [],
   "source": [
    "v = 5"
   ]
  },
  {
   "cell_type": "code",
   "execution_count": 5,
   "id": "5068fe90-7d0c-4494-aa12-492e33f63a93",
   "metadata": {},
   "outputs": [
    {
     "data": {
      "text/plain": [
       "'5'"
      ]
     },
     "execution_count": 5,
     "metadata": {},
     "output_type": "execute_result"
    }
   ],
   "source": [
    "str(v)"
   ]
  },
  {
   "cell_type": "code",
   "execution_count": 6,
   "id": "f4025ec4-80f2-4ce9-9b3e-1f09dc9c1bc5",
   "metadata": {},
   "outputs": [
    {
     "data": {
      "text/plain": [
       "'5'"
      ]
     },
     "execution_count": 6,
     "metadata": {},
     "output_type": "execute_result"
    }
   ],
   "source": [
    "'%i' %v "
   ]
  },
  {
   "cell_type": "markdown",
   "id": "5ac7983f-8010-4a9c-a789-190d77b131b9",
   "metadata": {},
   "source": [
    "**Explication** : On peut convertir des entiers (ou des nombres réels) en chaîne de caractères (string). Soit en utilisant la fonction *str()* ou un formatage special *'%i' %valeur*"
   ]
  },
  {
   "cell_type": "code",
   "execution_count": 7,
   "id": "f67063a7-b3a8-4e9d-affa-9a19e5679fcf",
   "metadata": {},
   "outputs": [
    {
     "data": {
      "text/plain": [
       "'2.58'"
      ]
     },
     "execution_count": 7,
     "metadata": {},
     "output_type": "execute_result"
    }
   ],
   "source": [
    "'%.2f' %2.57863"
   ]
  },
  {
   "cell_type": "markdown",
   "id": "8eaa7714-4056-477f-9cfa-1cade8e2bdc2",
   "metadata": {},
   "source": [
    "**Explication** : Ici, on convertit un nombre réel en chaîne de caractère (string) en utilisant le format *%f %valeur_reel*. Lorsqu'on spécifie %.2f, cela signifie que l'on garde seulement les deux premières décimales. Si on refait l'exercice avec %.3f, on garde seulement les trois premières décimales et ainsi de suite."
   ]
  },
  {
   "cell_type": "code",
   "execution_count": 8,
   "id": "16666b67-71ea-4a75-adcc-e48a109bf677",
   "metadata": {},
   "outputs": [
    {
     "data": {
      "text/plain": [
       "'Le nombre réel 8, le nombre entier 2.568'"
      ]
     },
     "execution_count": 8,
     "metadata": {},
     "output_type": "execute_result"
    }
   ],
   "source": [
    "'Le nombre réel %i, le nombre entier %.3f' %(8, 2.56845)"
   ]
  },
  {
   "cell_type": "code",
   "execution_count": 9,
   "id": "690dcdd5-d2f1-4997-bd58-6e4a3e0a4de7",
   "metadata": {},
   "outputs": [
    {
     "data": {
      "text/plain": [
       "'Le nombre réel 8.0000, le nombre entier 2'"
      ]
     },
     "execution_count": 9,
     "metadata": {},
     "output_type": "execute_result"
    }
   ],
   "source": [
    "'Le nombre réel %.4f, le nombre entier %i' %(8, 2.56845)"
   ]
  },
  {
   "cell_type": "markdown",
   "id": "b5e1c0d8-a4ab-461c-bb35-7f7da4e7bcd3",
   "metadata": {},
   "source": [
    "**Explication** : L'utilité de la conversion en utilisant les %i ou %f, est que l'on peut afficher des chaînes de caractères plus complexes en y insérant des valeurs dans cette dernière."
   ]
  },
  {
   "cell_type": "markdown",
   "id": "08628ed7-0442-428f-a6fa-040e5f18489e",
   "metadata": {},
   "source": [
    "\n",
    "\n",
    "\n",
    "\n",
    "#### Les listes ! Elles commencent toujours par l'indice **0**. Tu peux déterminer sa longueur mais aussi extraire des valeurs ou en rajouter. Mais aussi mettre une liste dans une liste..."
   ]
  },
  {
   "cell_type": "code",
   "execution_count": 10,
   "id": "ab2870cd-4917-4a64-8036-60f44315e0b8",
   "metadata": {},
   "outputs": [],
   "source": [
    "liste = [1,2,'seismic', [2,'terre'], 2.5475]"
   ]
  },
  {
   "cell_type": "markdown",
   "id": "291f876c-cff1-40a3-8156-7bded0b812d1",
   "metadata": {},
   "source": [
    "**Explication** : Ici, on assigne une liste contenant des nombres entiers (*integers (int())*), des nombres réels (*float (float())*)des chaines de caractères (*strings (str())*) et des listes (*list (list())*)"
   ]
  },
  {
   "cell_type": "code",
   "execution_count": 11,
   "id": "adbd68fd-e146-4213-8b70-76e6f446f456",
   "metadata": {},
   "outputs": [
    {
     "name": "stdout",
     "output_type": "stream",
     "text": [
      "[1, 2, 'seismic', [2, 'terre'], 2.5475]\n",
      "Longueur de la liste 5\n"
     ]
    },
    {
     "data": {
      "text/plain": [
       "(None, None)"
      ]
     },
     "execution_count": 11,
     "metadata": {},
     "output_type": "execute_result"
    }
   ],
   "source": [
    "print(liste), print('Longueur de la liste %i' %len(liste))"
   ]
  },
  {
   "cell_type": "markdown",
   "id": "9b7db546-340d-4661-967b-caf4fa3129dc",
   "metadata": {},
   "source": [
    "**Explication** : La fonction *len()* permet d'afficher la longueur de la liste"
   ]
  },
  {
   "cell_type": "code",
   "execution_count": 12,
   "id": "202efe2a-8810-4ba1-8b45-1595d525be85",
   "metadata": {},
   "outputs": [
    {
     "name": "stdout",
     "output_type": "stream",
     "text": [
      "[2, 'terre']\n"
     ]
    }
   ],
   "source": [
    "print(liste[3])"
   ]
  },
  {
   "cell_type": "code",
   "execution_count": 13,
   "id": "67a1bd31-e509-4624-a992-391cdfac5dd2",
   "metadata": {},
   "outputs": [
    {
     "name": "stdout",
     "output_type": "stream",
     "text": [
      "[1, 2, 'seismic', [2, 'terre'], 2.5475, 'Hello world']\n"
     ]
    }
   ],
   "source": [
    "liste.append('Hello world')\n",
    "print(liste)"
   ]
  },
  {
   "cell_type": "markdown",
   "id": "cead9eb2-54d5-4a86-89af-c8189244215d",
   "metadata": {},
   "source": [
    "**Explication** : Ici, la fonction  <span style=\"color:blue\">*.append()*</span> permet de rajouter une valeur dans la liste"
   ]
  },
  {
   "cell_type": "markdown",
   "id": "43fba0b3-ccef-4a63-8be6-68ed8a86fce5",
   "metadata": {},
   "source": [
    "#### __*Exercice :*__ Rajoute une liste dans la liste"
   ]
  },
  {
   "cell_type": "code",
   "execution_count": 14,
   "id": "4a5cc587-3cd1-4036-9dec-6910a8f015b7",
   "metadata": {},
   "outputs": [],
   "source": [
    "liste.append([45,25])"
   ]
  },
  {
   "cell_type": "code",
   "execution_count": 15,
   "id": "b3093fdd-8833-4dd1-b67f-18186ceb65a8",
   "metadata": {},
   "outputs": [
    {
     "name": "stdout",
     "output_type": "stream",
     "text": [
      "[1, 2, 'seismic', [2, 'terre'], 2.5475, 'Hello world', [45, 25]]\n"
     ]
    }
   ],
   "source": [
    "print(liste)"
   ]
  },
  {
   "cell_type": "markdown",
   "id": "7d8a2bea-7cac-4606-841e-f333b9b48e05",
   "metadata": {},
   "source": [
    "#### Semblable à une liste, un array !"
   ]
  },
  {
   "cell_type": "code",
   "execution_count": 16,
   "id": "ac7b92ca-e0b0-4e3d-a045-14450c055188",
   "metadata": {},
   "outputs": [],
   "source": [
    "import numpy as np"
   ]
  },
  {
   "cell_type": "code",
   "execution_count": 17,
   "id": "13456de0-c71e-416a-912f-14f4f3a4a7ea",
   "metadata": {},
   "outputs": [],
   "source": [
    "array = np.array([1,2,'seismic', 2.5475])\n",
    "liste_bis = [1,2,'seismic', 2.5475]"
   ]
  },
  {
   "cell_type": "markdown",
   "id": "45c57a89-bda6-4a42-a20e-4cd106d497ec",
   "metadata": {},
   "source": [
    "#### Les boucles ! Elles permettent d'itérer les élements dans une liste ou tout autre objet itérable"
   ]
  },
  {
   "cell_type": "code",
   "execution_count": 18,
   "id": "9dc26fd8-4a5c-415f-a0d7-cd34c0aca851",
   "metadata": {},
   "outputs": [
    {
     "name": "stdout",
     "output_type": "stream",
     "text": [
      "1\n",
      "2\n",
      "seismic\n",
      "2.5475\n"
     ]
    }
   ],
   "source": [
    "for elem in liste_bis :\n",
    "    print(elem)"
   ]
  },
  {
   "cell_type": "markdown",
   "id": "99508251-45b5-4e91-a1c2-6e31ba01b3ce",
   "metadata": {},
   "source": [
    "**Explication** : La bouble ci-dessus permet d'itérer les éléments dans une liste (liste_bis)"
   ]
  },
  {
   "cell_type": "markdown",
   "id": "ef4eceeb-25cc-4a30-ac0e-5b26a5103dd6",
   "metadata": {},
   "source": [
    "#### __*Exercice :*__ Crée une boucle pour itérer les valeurs dans l'array"
   ]
  },
  {
   "cell_type": "code",
   "execution_count": 19,
   "id": "8b61141a-dfda-4cd7-92ca-1daf98ff7b05",
   "metadata": {},
   "outputs": [
    {
     "name": "stdout",
     "output_type": "stream",
     "text": [
      "1\n",
      "2\n",
      "seismic\n",
      "2.5475\n"
     ]
    }
   ],
   "source": [
    "for elem_array in array :\n",
    "    print(elem_array)"
   ]
  },
  {
   "cell_type": "markdown",
   "id": "426d2037-b193-4d75-a7dc-8fe0e376630e",
   "metadata": {},
   "source": [
    "**Explication** : Même chose pour les élements dans l'array"
   ]
  },
  {
   "cell_type": "markdown",
   "id": "37c826b9-e956-42cf-8a0a-a108b5f1bf60",
   "metadata": {},
   "source": [
    "#### Boucle enumerate, elle renvoie en même temps l'indice de la variable et la variable"
   ]
  },
  {
   "cell_type": "code",
   "execution_count": 20,
   "id": "50982034-77e2-4264-93e9-4f4802563146",
   "metadata": {},
   "outputs": [
    {
     "name": "stdout",
     "output_type": "stream",
     "text": [
      "0 1\n",
      "1 2\n",
      "2 seismic\n",
      "3 2.5475\n"
     ]
    }
   ],
   "source": [
    "for i, elem in enumerate(liste_bis) :\n",
    "    print(i, elem)"
   ]
  },
  {
   "cell_type": "markdown",
   "id": "f1fc2c0a-c5b0-4537-bef6-75899bea543f",
   "metadata": {},
   "source": [
    "**Explication** : La boucle énumerate permet d'itérer la position de l'élement dans liste ainsi que la valeur de l'élement"
   ]
  },
  {
   "cell_type": "code",
   "execution_count": 21,
   "id": "edc1407c-4e2a-43ad-a2e8-55100fac7e7b",
   "metadata": {},
   "outputs": [
    {
     "name": "stdout",
     "output_type": "stream",
     "text": [
      "0 1\n",
      "1 2\n",
      "2 seismic\n",
      "3 2.5475\n"
     ]
    }
   ],
   "source": [
    "for j, elem in enumerate(array) :\n",
    "    print(j, elem)"
   ]
  },
  {
   "cell_type": "markdown",
   "id": "18bdd4e6-95fd-4d10-bae3-df3fea8bcd61",
   "metadata": {},
   "source": [
    "**Explication** : Même chose pour l'array"
   ]
  },
  {
   "cell_type": "markdown",
   "id": "60cb9217-97df-4d32-af94-c59eef45ab01",
   "metadata": {},
   "source": [
    "#### Boucle Range"
   ]
  },
  {
   "cell_type": "code",
   "execution_count": 22,
   "id": "8404927c-f68d-459e-be00-82b704658aaf",
   "metadata": {},
   "outputs": [
    {
     "name": "stdout",
     "output_type": "stream",
     "text": [
      "0\n",
      "1\n",
      "2\n",
      "3\n",
      "4\n",
      "5\n",
      "6\n",
      "7\n",
      "8\n",
      "9\n"
     ]
    }
   ],
   "source": [
    "for i in range(10) :\n",
    "    print(i)"
   ]
  },
  {
   "cell_type": "markdown",
   "id": "c8b29893-2895-4c93-92ca-e1a11e690973",
   "metadata": {},
   "source": [
    "**Explication** : Les boucles range permettent d'itérer des nombres de 0 à la valeur - 1. Ici de 0 à 9"
   ]
  },
  {
   "cell_type": "code",
   "execution_count": 23,
   "id": "e72b180c-8da0-481a-825b-171cd96902e4",
   "metadata": {},
   "outputs": [
    {
     "name": "stdout",
     "output_type": "stream",
     "text": [
      "5\n",
      "6\n",
      "7\n",
      "8\n",
      "9\n"
     ]
    }
   ],
   "source": [
    "for i in range(5, 10) :\n",
    "    print(i)"
   ]
  },
  {
   "cell_type": "markdown",
   "id": "2c5e04b4-7816-48b3-923a-9dc44abb54f1",
   "metadata": {},
   "source": [
    "**Explication** : Dans les boucles range on peut spécifier la valeur de départ, dans ce cas-ci on va de 5 à 9 (10-1)"
   ]
  },
  {
   "cell_type": "code",
   "execution_count": 24,
   "id": "7706c076-0d3c-4dd2-9dd3-4bfe7bdc0223",
   "metadata": {},
   "outputs": [
    {
     "name": "stdout",
     "output_type": "stream",
     "text": [
      "0\n",
      "5\n"
     ]
    }
   ],
   "source": [
    "for i in range(0, 10, 5) : #(start, end, step)\n",
    "    print(i)"
   ]
  },
  {
   "cell_type": "markdown",
   "id": "6e2b9017-5077-4b25-bd2a-4d090c3a0862",
   "metadata": {},
   "source": [
    "**Explication** : Et également spécifier un pas, dans notre cas, un pas de 5"
   ]
  },
  {
   "cell_type": "markdown",
   "id": "f8f2ebc6-59d0-497d-8cb8-ea7f5fa2fec6",
   "metadata": {},
   "source": [
    "#### On peut aussi utiliser les ranges pour faire une liste de valeurs!"
   ]
  },
  {
   "cell_type": "code",
   "execution_count": 25,
   "id": "43253c27-f2f8-49fc-9eee-cbaba7cee76f",
   "metadata": {},
   "outputs": [],
   "source": [
    "dist = list(range(11))"
   ]
  },
  {
   "cell_type": "code",
   "execution_count": 26,
   "id": "2e320057-4405-41c3-b551-c73eb3c707f3",
   "metadata": {},
   "outputs": [
    {
     "name": "stdout",
     "output_type": "stream",
     "text": [
      "[0, 1, 2, 3, 4, 5, 6, 7, 8, 9, 10]\n"
     ]
    }
   ],
   "source": [
    "print(dist)"
   ]
  },
  {
   "cell_type": "markdown",
   "id": "f3c6e947-e6c3-4db9-8b1d-3cf1d5b7cc90",
   "metadata": {},
   "source": [
    "#### __*Exercice :*__ Realise une liste de 1 à 100 avec un pas de 2"
   ]
  },
  {
   "cell_type": "code",
   "execution_count": 27,
   "id": "22677262-604a-44c6-a717-d5ba12443177",
   "metadata": {},
   "outputs": [],
   "source": [
    "liste_100 = list(range(1,101,2))"
   ]
  },
  {
   "cell_type": "code",
   "execution_count": 28,
   "id": "f2b47afc-4320-457a-8196-4133eb450f3d",
   "metadata": {},
   "outputs": [
    {
     "name": "stdout",
     "output_type": "stream",
     "text": [
      "[1, 3, 5, 7, 9, 11, 13, 15, 17, 19, 21, 23, 25, 27, 29, 31, 33, 35, 37, 39, 41, 43, 45, 47, 49, 51, 53, 55, 57, 59, 61, 63, 65, 67, 69, 71, 73, 75, 77, 79, 81, 83, 85, 87, 89, 91, 93, 95, 97, 99]\n"
     ]
    }
   ],
   "source": [
    "print(liste_100)"
   ]
  },
  {
   "cell_type": "markdown",
   "id": "199d692a-c782-44e1-9e2a-c2c11215b8c8",
   "metadata": {},
   "source": [
    "**Explication** : On peut insérer dans la fonction  <span style=\"color:green\">*list()*</span> la fonction  <span style=\"color:green\">*range()*</span> qui permet de créer une liste contenant un interval d'entiers"
   ]
  },
  {
   "cell_type": "code",
   "execution_count": 29,
   "id": "4f3048ae-f3d2-4cd1-beb4-c0a347ae3dd7",
   "metadata": {},
   "outputs": [],
   "source": [
    "huge = np.array(range(1,101,2))"
   ]
  },
  {
   "cell_type": "code",
   "execution_count": 30,
   "id": "c131af3b-1dff-4992-9ac8-0b47b1ce5ede",
   "metadata": {},
   "outputs": [
    {
     "data": {
      "text/plain": [
       "array([ 1,  3,  5,  7,  9, 11, 13, 15, 17, 19, 21, 23, 25, 27, 29, 31, 33,\n",
       "       35, 37, 39, 41, 43, 45, 47, 49, 51, 53, 55, 57, 59, 61, 63, 65, 67,\n",
       "       69, 71, 73, 75, 77, 79, 81, 83, 85, 87, 89, 91, 93, 95, 97, 99])"
      ]
     },
     "execution_count": 30,
     "metadata": {},
     "output_type": "execute_result"
    }
   ],
   "source": [
    "huge"
   ]
  },
  {
   "cell_type": "markdown",
   "id": "ab5fac2a-5a85-475b-bff6-feea264b7025",
   "metadata": {},
   "source": [
    "**Explication** : On peut utiliser la même technique avec les array"
   ]
  },
  {
   "cell_type": "code",
   "execution_count": 31,
   "id": "6dcce460-5631-418d-868a-e5e87c1550cb",
   "metadata": {},
   "outputs": [],
   "source": [
    "huge_2 = np.arange(1,101,2)"
   ]
  },
  {
   "cell_type": "code",
   "execution_count": 32,
   "id": "7c28ea2b-337e-4106-be78-b4935a7465cf",
   "metadata": {},
   "outputs": [
    {
     "data": {
      "text/plain": [
       "array([ 1,  3,  5,  7,  9, 11, 13, 15, 17, 19, 21, 23, 25, 27, 29, 31, 33,\n",
       "       35, 37, 39, 41, 43, 45, 47, 49, 51, 53, 55, 57, 59, 61, 63, 65, 67,\n",
       "       69, 71, 73, 75, 77, 79, 81, 83, 85, 87, 89, 91, 93, 95, 97, 99])"
      ]
     },
     "execution_count": 32,
     "metadata": {},
     "output_type": "execute_result"
    }
   ],
   "source": [
    "huge_2"
   ]
  },
  {
   "cell_type": "markdown",
   "id": "e76a74e2-59b6-49d8-b1f9-1c4d3181e228",
   "metadata": {},
   "source": [
    "**Explication** : Ou alors utiliser la fonction <span style=\"color:blue\">*np.arange()*</span>  déjà implémentée dans la bibliothèque numpy"
   ]
  },
  {
   "cell_type": "markdown",
   "id": "43d01fe8-2d57-41c4-b813-7c317c08fc0d",
   "metadata": {},
   "source": [
    "## Création de fonctions"
   ]
  },
  {
   "cell_type": "code",
   "execution_count": 33,
   "id": "f8b7aa3e-9fe4-4289-a9c3-5133de73561d",
   "metadata": {},
   "outputs": [],
   "source": [
    "def paniers(pommes, poires) :\n",
    "    '''\n",
    "    Fonction très utile qui permet de savoir le nombre de fruits dans un panier\n",
    "    '''\n",
    "    fruits = pommes+poires\n",
    "    return fruits"
   ]
  },
  {
   "cell_type": "markdown",
   "id": "859f92d4-987c-4526-a6e3-cf9e898648bb",
   "metadata": {},
   "source": [
    "**Explication** : La cellule ci-dessus permet de définir une fonction, dans notre cas la fonction <span style=\"color:blue\">*paniers()*</span>. Les fonctions, comme celle prédéfinies dans Python, prennent des valeurs d'entrées (input), ici ce sont les variables pommes et poires. Ces variables peuvent être traitées dans la fonctions. Cependant les variables dans une fonction sont dites locales, autrement dit, elles ne peuvent pas être utilisées en dehors de la fonction. Pour retourner (donc sortir) une variable, on utilise la fonction <span style=\"color:green\">*return*</span>. Dans notre cas, on sort la variable fruits.\n",
    "\n",
    "La création de fonction est très utile particulièrement quand on doit réaliser une même tache/calcul plusieurs fois dans le code. Cela permet de diminuer la longueur des codes et ce qui les rendent (parfois) plus rapide."
   ]
  },
  {
   "cell_type": "code",
   "execution_count": 34,
   "id": "a18d90e7-e795-451d-8bc7-b2293e2ce3bc",
   "metadata": {},
   "outputs": [
    {
     "name": "stdout",
     "output_type": "stream",
     "text": [
      "32\n"
     ]
    }
   ],
   "source": [
    "pommes = 15\n",
    "poires = 17\n",
    "\n",
    "fruits = paniers(pommes, poires)\n",
    "\n",
    "print(fruits)"
   ]
  },
  {
   "cell_type": "markdown",
   "id": "89d2de91-468e-4259-9e78-acdb244b42e0",
   "metadata": {},
   "source": [
    "**Explication** : Dans l'exemple ci-dessus, on definit les variables pommes et poires et la fonction nous retourne le nombre de fruits soit la somme des pommes et poires"
   ]
  },
  {
   "cell_type": "markdown",
   "id": "7c736d69-bf5e-4c9f-b73d-4f5e9a06e481",
   "metadata": {},
   "source": [
    "#### __*Exercice :*__ Utilise une boucle (loop) pour réaliser une liste de paniers soit la somme des pommes et poires"
   ]
  },
  {
   "cell_type": "code",
   "execution_count": 35,
   "id": "61581c7f-dd86-4e12-9776-46a71c0a4e3f",
   "metadata": {},
   "outputs": [],
   "source": [
    "liste_pommes = [10,58,36,78,41,23,96,55]\n",
    "liste_poires = [44,2,41,23,85,36,77,20]"
   ]
  },
  {
   "cell_type": "code",
   "execution_count": 36,
   "id": "35e68905-6093-4151-90e3-56b71fe1644e",
   "metadata": {},
   "outputs": [
    {
     "name": "stdout",
     "output_type": "stream",
     "text": [
      "0 10 44 54\n",
      "1 58 2 60\n",
      "2 36 41 77\n",
      "3 78 23 101\n",
      "4 41 85 126\n",
      "5 23 36 59\n",
      "6 96 77 173\n",
      "7 55 20 75\n"
     ]
    }
   ],
   "source": [
    "total_fruits = []\n",
    "\n",
    "for i, pomme in enumerate(liste_pommes) :\n",
    "    poire = liste_poires[i]\n",
    "    fruits = paniers(pomme, poire)\n",
    "    total_fruits.append(fruits)\n",
    "    print(i, pomme, poire, fruits)"
   ]
  },
  {
   "cell_type": "code",
   "execution_count": 37,
   "id": "1480bc9d-426c-47e5-969a-e261b32e1e6c",
   "metadata": {},
   "outputs": [
    {
     "name": "stdout",
     "output_type": "stream",
     "text": [
      "[54, 60, 77, 101, 126, 59, 173, 75]\n"
     ]
    }
   ],
   "source": [
    "print(total_fruits)"
   ]
  },
  {
   "cell_type": "markdown",
   "id": "5d2a03c8-8254-4c6a-a49a-ae0ed0903934",
   "metadata": {},
   "source": [
    "**Explication** : Le but de l'exercice était de vous faire comprendre l'utilité des fonctions et des boucles (loop) dans Python. On vous fournir en entrée, deux listes : une pour les pommes et l'autre pour les poires. Chaque position dans la liste correspond à un panier; Autrement dit, le nombre de poires et de pommes dans le panier zéro correspond *liste_pommes[0]* + *liste_poires[0]*. Dans mon exemple de solution à l'exercice j'itère la position des élements ainsi que les élements dans la *liste_pommes* avec la boucle  <span style=\"color:green\">*enumerate()*</span>. J'extrais le nombre de poires indiquant la position dans la liste de poires : *poire = liste_poires[i]*. Ensuite, j'appelle la fonction pour avoir le nombre total de fruits dans chaque panier ; la valeur contenue dans fruit est ensuite rajoutée à la liste *total_fruits*."
   ]
  },
  {
   "cell_type": "markdown",
   "id": "c6530519-08f2-4ca2-95ef-346fe742212f",
   "metadata": {},
   "source": [
    "## Ouverture d'un CSV ou fichier texte"
   ]
  },
  {
   "cell_type": "code",
   "execution_count": 38,
   "id": "d27dd83a-9cef-4141-b41e-c89422e0e837",
   "metadata": {},
   "outputs": [
    {
     "name": "stdout",
     "output_type": "stream",
     "text": [
      "Requirement already satisfied: pandas in c:\\users\\julie\\anaconda3\\envs\\bas2\\lib\\site-packages (1.5.3)\n",
      "Requirement already satisfied: python-dateutil>=2.8.1 in c:\\users\\julie\\anaconda3\\envs\\bas2\\lib\\site-packages (from pandas) (2.8.2)\n",
      "Requirement already satisfied: numpy>=1.21.0 in c:\\users\\julie\\anaconda3\\envs\\bas2\\lib\\site-packages (from pandas) (1.23.5)\n",
      "Requirement already satisfied: pytz>=2020.1 in c:\\users\\julie\\anaconda3\\envs\\bas2\\lib\\site-packages (from pandas) (2022.7)\n",
      "Requirement already satisfied: six>=1.5 in c:\\users\\julie\\anaconda3\\envs\\bas2\\lib\\site-packages (from python-dateutil>=2.8.1->pandas) (1.16.0)\n"
     ]
    }
   ],
   "source": [
    "! pip install pandas"
   ]
  },
  {
   "cell_type": "markdown",
   "id": "82e5c8d4-a876-4706-9cbc-60c3e73b1b29",
   "metadata": {},
   "source": [
    "**Explication** : Permet d'installer la bibliothèque pandas si ce n'est pas déjà fait. Commencer une cellule de code avec un ! permet d'utiliser cette cellule comme du bash."
   ]
  },
  {
   "cell_type": "code",
   "execution_count": 39,
   "id": "5a2af0e6-877b-4404-bae0-c3115ee5a794",
   "metadata": {},
   "outputs": [],
   "source": [
    "import pandas as pd\n",
    "import matplotlib.pyplot as plt"
   ]
  },
  {
   "cell_type": "markdown",
   "id": "f54b4a0e-ad13-4aa6-9efe-7343bf7128be",
   "metadata": {},
   "source": [
    "**Explication** : On importe les bibliothèques pandas et matplotlib.pyplot. La première permet de traiter des fichiers .csv ou .text alors que la seconde permet de créer des graphiques."
   ]
  },
  {
   "cell_type": "code",
   "execution_count": 40,
   "id": "d4502bf9-25a3-4009-8645-f66740e33e9f",
   "metadata": {},
   "outputs": [],
   "source": [
    "data_csv = pd.read_csv('./data_csv/FreqBand_medianFilter3hours.csv', index_col='time')"
   ]
  },
  {
   "cell_type": "markdown",
   "id": "e4243c98-3c66-4eab-a1c9-f5e6d3c2016c",
   "metadata": {},
   "source": [
    "**Explication** : La fonction <span style=\"color:blue\">*pd.read_csv()*</span> permet de lire les fichiers .csv ou .text. On y spécifie le chemin vers le fichier (qui se trouve **ici** dans le dosssier data_csv). On peut également spécifier le délimiteur (*delimiter=*) soit le le caractère qui sépare les valeurs dans le fichier csv ou text ; ça peut être n'importe quel caractère mais généralement ce sont les suivants **;**, **\\t**, **,**, **/**. Le caractère par défaut est le **;**. Le paramètre *decimal=* permet de définir le séparateur pour les décimales ; généralement (et par défaut) c'est un **.** mais cela peut être une **,** particulièrement dans les pays francophones."
   ]
  },
  {
   "cell_type": "code",
   "execution_count": 41,
   "id": "b049d35f-d961-486c-ae80-efb68501a22a",
   "metadata": {
    "scrolled": true
   },
   "outputs": [
    {
     "data": {
      "text/html": [
       "<div>\n",
       "<style scoped>\n",
       "    .dataframe tbody tr th:only-of-type {\n",
       "        vertical-align: middle;\n",
       "    }\n",
       "\n",
       "    .dataframe tbody tr th {\n",
       "        vertical-align: top;\n",
       "    }\n",
       "\n",
       "    .dataframe thead th {\n",
       "        text-align: right;\n",
       "    }\n",
       "</style>\n",
       "<table border=\"1\" class=\"dataframe\">\n",
       "  <thead>\n",
       "    <tr style=\"text-align: right;\">\n",
       "      <th></th>\n",
       "      <th>Unnamed: 0.1</th>\n",
       "      <th>Unnamed: 0</th>\n",
       "      <th>median_100_200Hz</th>\n",
       "      <th>avg_100_200Hz</th>\n",
       "      <th>median_400_600Hz</th>\n",
       "      <th>avg_400_600Hz</th>\n",
       "      <th>median_800_1000Hz</th>\n",
       "      <th>avg_800_1000Hz</th>\n",
       "      <th>median_1000_1200Hz</th>\n",
       "      <th>avg_1000_1200Hz</th>\n",
       "      <th>median_1600_1800Hz</th>\n",
       "      <th>avg_1600_1800Hz</th>\n",
       "      <th>median_2000_2600Hz</th>\n",
       "      <th>avg_2000_2600Hz</th>\n",
       "      <th>median_3000_4000Hz</th>\n",
       "      <th>avg_3000_4000Hz</th>\n",
       "    </tr>\n",
       "    <tr>\n",
       "      <th>time</th>\n",
       "      <th></th>\n",
       "      <th></th>\n",
       "      <th></th>\n",
       "      <th></th>\n",
       "      <th></th>\n",
       "      <th></th>\n",
       "      <th></th>\n",
       "      <th></th>\n",
       "      <th></th>\n",
       "      <th></th>\n",
       "      <th></th>\n",
       "      <th></th>\n",
       "      <th></th>\n",
       "      <th></th>\n",
       "      <th></th>\n",
       "      <th></th>\n",
       "    </tr>\n",
       "  </thead>\n",
       "  <tbody>\n",
       "    <tr>\n",
       "      <th>2023-06-03 00:15:00</th>\n",
       "      <td>0</td>\n",
       "      <td>0</td>\n",
       "      <td>-9.334698</td>\n",
       "      <td>-9.106656</td>\n",
       "      <td>-9.433813</td>\n",
       "      <td>-9.053601</td>\n",
       "      <td>-8.517828</td>\n",
       "      <td>-8.346030</td>\n",
       "      <td>-8.825095</td>\n",
       "      <td>-8.651236</td>\n",
       "      <td>-9.574761</td>\n",
       "      <td>-9.392304</td>\n",
       "      <td>-10.686567</td>\n",
       "      <td>-10.394498</td>\n",
       "      <td>-11.392568</td>\n",
       "      <td>-11.180526</td>\n",
       "    </tr>\n",
       "    <tr>\n",
       "      <th>2023-06-03 00:45:00</th>\n",
       "      <td>1</td>\n",
       "      <td>1</td>\n",
       "      <td>-9.783819</td>\n",
       "      <td>-9.547872</td>\n",
       "      <td>-9.446437</td>\n",
       "      <td>-9.079535</td>\n",
       "      <td>-8.524238</td>\n",
       "      <td>-8.354489</td>\n",
       "      <td>-8.826525</td>\n",
       "      <td>-8.660922</td>\n",
       "      <td>-9.621846</td>\n",
       "      <td>-9.437563</td>\n",
       "      <td>-10.709792</td>\n",
       "      <td>-10.414571</td>\n",
       "      <td>-11.396448</td>\n",
       "      <td>-11.189248</td>\n",
       "    </tr>\n",
       "    <tr>\n",
       "      <th>2023-06-03 01:15:00</th>\n",
       "      <td>2</td>\n",
       "      <td>2</td>\n",
       "      <td>-9.973015</td>\n",
       "      <td>-9.745952</td>\n",
       "      <td>-9.446437</td>\n",
       "      <td>-9.079535</td>\n",
       "      <td>-8.524238</td>\n",
       "      <td>-8.354489</td>\n",
       "      <td>-8.831456</td>\n",
       "      <td>-8.662919</td>\n",
       "      <td>-9.773333</td>\n",
       "      <td>-9.575774</td>\n",
       "      <td>-10.733016</td>\n",
       "      <td>-10.440993</td>\n",
       "      <td>-11.408291</td>\n",
       "      <td>-11.193827</td>\n",
       "    </tr>\n",
       "    <tr>\n",
       "      <th>2023-06-03 01:45:00</th>\n",
       "      <td>3</td>\n",
       "      <td>3</td>\n",
       "      <td>-10.046284</td>\n",
       "      <td>-9.825649</td>\n",
       "      <td>-9.446437</td>\n",
       "      <td>-9.097478</td>\n",
       "      <td>-8.524238</td>\n",
       "      <td>-8.354489</td>\n",
       "      <td>-8.831456</td>\n",
       "      <td>-8.662919</td>\n",
       "      <td>-9.783873</td>\n",
       "      <td>-9.577949</td>\n",
       "      <td>-10.736638</td>\n",
       "      <td>-10.462546</td>\n",
       "      <td>-11.408304</td>\n",
       "      <td>-11.195370</td>\n",
       "    </tr>\n",
       "    <tr>\n",
       "      <th>2023-06-03 02:15:00</th>\n",
       "      <td>4</td>\n",
       "      <td>4</td>\n",
       "      <td>-10.046284</td>\n",
       "      <td>-9.825649</td>\n",
       "      <td>-9.446437</td>\n",
       "      <td>-9.097478</td>\n",
       "      <td>-8.524238</td>\n",
       "      <td>-8.354489</td>\n",
       "      <td>-8.826525</td>\n",
       "      <td>-8.662919</td>\n",
       "      <td>-9.833114</td>\n",
       "      <td>-9.640339</td>\n",
       "      <td>-10.751219</td>\n",
       "      <td>-10.475184</td>\n",
       "      <td>-11.409013</td>\n",
       "      <td>-11.198727</td>\n",
       "    </tr>\n",
       "    <tr>\n",
       "      <th>...</th>\n",
       "      <td>...</td>\n",
       "      <td>...</td>\n",
       "      <td>...</td>\n",
       "      <td>...</td>\n",
       "      <td>...</td>\n",
       "      <td>...</td>\n",
       "      <td>...</td>\n",
       "      <td>...</td>\n",
       "      <td>...</td>\n",
       "      <td>...</td>\n",
       "      <td>...</td>\n",
       "      <td>...</td>\n",
       "      <td>...</td>\n",
       "      <td>...</td>\n",
       "      <td>...</td>\n",
       "      <td>...</td>\n",
       "    </tr>\n",
       "    <tr>\n",
       "      <th>2023-06-28 13:45:00</th>\n",
       "      <td>1226</td>\n",
       "      <td>27</td>\n",
       "      <td>-10.235385</td>\n",
       "      <td>-10.064209</td>\n",
       "      <td>-9.264954</td>\n",
       "      <td>-9.062944</td>\n",
       "      <td>-8.880798</td>\n",
       "      <td>-8.719913</td>\n",
       "      <td>-8.861645</td>\n",
       "      <td>-8.694664</td>\n",
       "      <td>-9.721805</td>\n",
       "      <td>-9.562467</td>\n",
       "      <td>-10.238257</td>\n",
       "      <td>-10.040294</td>\n",
       "      <td>-10.981519</td>\n",
       "      <td>-10.764168</td>\n",
       "    </tr>\n",
       "    <tr>\n",
       "      <th>2023-06-28 14:15:00</th>\n",
       "      <td>1227</td>\n",
       "      <td>28</td>\n",
       "      <td>-10.235385</td>\n",
       "      <td>-10.064209</td>\n",
       "      <td>-9.264954</td>\n",
       "      <td>-9.062944</td>\n",
       "      <td>-8.843776</td>\n",
       "      <td>-8.682176</td>\n",
       "      <td>-8.853212</td>\n",
       "      <td>-8.688120</td>\n",
       "      <td>-9.652391</td>\n",
       "      <td>-9.490222</td>\n",
       "      <td>-10.233872</td>\n",
       "      <td>-10.002259</td>\n",
       "      <td>-10.979224</td>\n",
       "      <td>-10.762887</td>\n",
       "    </tr>\n",
       "    <tr>\n",
       "      <th>2023-06-28 14:45:00</th>\n",
       "      <td>1228</td>\n",
       "      <td>29</td>\n",
       "      <td>-10.174927</td>\n",
       "      <td>-9.999371</td>\n",
       "      <td>-9.251296</td>\n",
       "      <td>-9.050749</td>\n",
       "      <td>-8.838049</td>\n",
       "      <td>-8.676600</td>\n",
       "      <td>-8.819115</td>\n",
       "      <td>-8.653127</td>\n",
       "      <td>-9.649741</td>\n",
       "      <td>-9.489597</td>\n",
       "      <td>-10.159577</td>\n",
       "      <td>-9.932663</td>\n",
       "      <td>-10.979096</td>\n",
       "      <td>-10.758000</td>\n",
       "    </tr>\n",
       "    <tr>\n",
       "      <th>2023-06-28 15:15:00</th>\n",
       "      <td>1229</td>\n",
       "      <td>30</td>\n",
       "      <td>-10.143720</td>\n",
       "      <td>-9.953844</td>\n",
       "      <td>-9.250424</td>\n",
       "      <td>-9.047384</td>\n",
       "      <td>-8.818536</td>\n",
       "      <td>-8.656020</td>\n",
       "      <td>-8.810469</td>\n",
       "      <td>-8.643780</td>\n",
       "      <td>-9.647588</td>\n",
       "      <td>-9.487761</td>\n",
       "      <td>-10.118580</td>\n",
       "      <td>-9.876414</td>\n",
       "      <td>-10.976972</td>\n",
       "      <td>-10.754846</td>\n",
       "    </tr>\n",
       "    <tr>\n",
       "      <th>2023-06-28 15:45:00</th>\n",
       "      <td>1230</td>\n",
       "      <td>31</td>\n",
       "      <td>-10.060473</td>\n",
       "      <td>-9.844244</td>\n",
       "      <td>-9.240875</td>\n",
       "      <td>-9.041538</td>\n",
       "      <td>-8.799333</td>\n",
       "      <td>-8.635005</td>\n",
       "      <td>-8.766738</td>\n",
       "      <td>-8.598876</td>\n",
       "      <td>-9.605176</td>\n",
       "      <td>-9.445628</td>\n",
       "      <td>-10.061373</td>\n",
       "      <td>-9.838114</td>\n",
       "      <td>-10.968553</td>\n",
       "      <td>-10.751835</td>\n",
       "    </tr>\n",
       "  </tbody>\n",
       "</table>\n",
       "<p>1231 rows × 16 columns</p>\n",
       "</div>"
      ],
      "text/plain": [
       "                     Unnamed: 0.1  Unnamed: 0  median_100_200Hz  \\\n",
       "time                                                              \n",
       "2023-06-03 00:15:00             0           0         -9.334698   \n",
       "2023-06-03 00:45:00             1           1         -9.783819   \n",
       "2023-06-03 01:15:00             2           2         -9.973015   \n",
       "2023-06-03 01:45:00             3           3        -10.046284   \n",
       "2023-06-03 02:15:00             4           4        -10.046284   \n",
       "...                           ...         ...               ...   \n",
       "2023-06-28 13:45:00          1226          27        -10.235385   \n",
       "2023-06-28 14:15:00          1227          28        -10.235385   \n",
       "2023-06-28 14:45:00          1228          29        -10.174927   \n",
       "2023-06-28 15:15:00          1229          30        -10.143720   \n",
       "2023-06-28 15:45:00          1230          31        -10.060473   \n",
       "\n",
       "                     avg_100_200Hz  median_400_600Hz  avg_400_600Hz  \\\n",
       "time                                                                  \n",
       "2023-06-03 00:15:00      -9.106656         -9.433813      -9.053601   \n",
       "2023-06-03 00:45:00      -9.547872         -9.446437      -9.079535   \n",
       "2023-06-03 01:15:00      -9.745952         -9.446437      -9.079535   \n",
       "2023-06-03 01:45:00      -9.825649         -9.446437      -9.097478   \n",
       "2023-06-03 02:15:00      -9.825649         -9.446437      -9.097478   \n",
       "...                            ...               ...            ...   \n",
       "2023-06-28 13:45:00     -10.064209         -9.264954      -9.062944   \n",
       "2023-06-28 14:15:00     -10.064209         -9.264954      -9.062944   \n",
       "2023-06-28 14:45:00      -9.999371         -9.251296      -9.050749   \n",
       "2023-06-28 15:15:00      -9.953844         -9.250424      -9.047384   \n",
       "2023-06-28 15:45:00      -9.844244         -9.240875      -9.041538   \n",
       "\n",
       "                     median_800_1000Hz  avg_800_1000Hz  median_1000_1200Hz  \\\n",
       "time                                                                         \n",
       "2023-06-03 00:15:00          -8.517828       -8.346030           -8.825095   \n",
       "2023-06-03 00:45:00          -8.524238       -8.354489           -8.826525   \n",
       "2023-06-03 01:15:00          -8.524238       -8.354489           -8.831456   \n",
       "2023-06-03 01:45:00          -8.524238       -8.354489           -8.831456   \n",
       "2023-06-03 02:15:00          -8.524238       -8.354489           -8.826525   \n",
       "...                                ...             ...                 ...   \n",
       "2023-06-28 13:45:00          -8.880798       -8.719913           -8.861645   \n",
       "2023-06-28 14:15:00          -8.843776       -8.682176           -8.853212   \n",
       "2023-06-28 14:45:00          -8.838049       -8.676600           -8.819115   \n",
       "2023-06-28 15:15:00          -8.818536       -8.656020           -8.810469   \n",
       "2023-06-28 15:45:00          -8.799333       -8.635005           -8.766738   \n",
       "\n",
       "                     avg_1000_1200Hz  median_1600_1800Hz  avg_1600_1800Hz  \\\n",
       "time                                                                        \n",
       "2023-06-03 00:15:00        -8.651236           -9.574761        -9.392304   \n",
       "2023-06-03 00:45:00        -8.660922           -9.621846        -9.437563   \n",
       "2023-06-03 01:15:00        -8.662919           -9.773333        -9.575774   \n",
       "2023-06-03 01:45:00        -8.662919           -9.783873        -9.577949   \n",
       "2023-06-03 02:15:00        -8.662919           -9.833114        -9.640339   \n",
       "...                              ...                 ...              ...   \n",
       "2023-06-28 13:45:00        -8.694664           -9.721805        -9.562467   \n",
       "2023-06-28 14:15:00        -8.688120           -9.652391        -9.490222   \n",
       "2023-06-28 14:45:00        -8.653127           -9.649741        -9.489597   \n",
       "2023-06-28 15:15:00        -8.643780           -9.647588        -9.487761   \n",
       "2023-06-28 15:45:00        -8.598876           -9.605176        -9.445628   \n",
       "\n",
       "                     median_2000_2600Hz  avg_2000_2600Hz  median_3000_4000Hz  \\\n",
       "time                                                                           \n",
       "2023-06-03 00:15:00          -10.686567       -10.394498          -11.392568   \n",
       "2023-06-03 00:45:00          -10.709792       -10.414571          -11.396448   \n",
       "2023-06-03 01:15:00          -10.733016       -10.440993          -11.408291   \n",
       "2023-06-03 01:45:00          -10.736638       -10.462546          -11.408304   \n",
       "2023-06-03 02:15:00          -10.751219       -10.475184          -11.409013   \n",
       "...                                 ...              ...                 ...   \n",
       "2023-06-28 13:45:00          -10.238257       -10.040294          -10.981519   \n",
       "2023-06-28 14:15:00          -10.233872       -10.002259          -10.979224   \n",
       "2023-06-28 14:45:00          -10.159577        -9.932663          -10.979096   \n",
       "2023-06-28 15:15:00          -10.118580        -9.876414          -10.976972   \n",
       "2023-06-28 15:45:00          -10.061373        -9.838114          -10.968553   \n",
       "\n",
       "                     avg_3000_4000Hz  \n",
       "time                                  \n",
       "2023-06-03 00:15:00       -11.180526  \n",
       "2023-06-03 00:45:00       -11.189248  \n",
       "2023-06-03 01:15:00       -11.193827  \n",
       "2023-06-03 01:45:00       -11.195370  \n",
       "2023-06-03 02:15:00       -11.198727  \n",
       "...                              ...  \n",
       "2023-06-28 13:45:00       -10.764168  \n",
       "2023-06-28 14:15:00       -10.762887  \n",
       "2023-06-28 14:45:00       -10.758000  \n",
       "2023-06-28 15:15:00       -10.754846  \n",
       "2023-06-28 15:45:00       -10.751835  \n",
       "\n",
       "[1231 rows x 16 columns]"
      ]
     },
     "execution_count": 41,
     "metadata": {},
     "output_type": "execute_result"
    }
   ],
   "source": [
    "data_csv"
   ]
  },
  {
   "cell_type": "code",
   "execution_count": 42,
   "id": "7595a470-a98b-4801-aab6-09977a066437",
   "metadata": {},
   "outputs": [
    {
     "data": {
      "text/plain": [
       "(time\n",
       " 2023-06-03 00:15:00   -9.433813\n",
       " 2023-06-03 00:45:00   -9.446437\n",
       " 2023-06-03 01:15:00   -9.446437\n",
       " 2023-06-03 01:45:00   -9.446437\n",
       " 2023-06-03 02:15:00   -9.446437\n",
       "                          ...   \n",
       " 2023-06-28 13:45:00   -9.264954\n",
       " 2023-06-28 14:15:00   -9.264954\n",
       " 2023-06-28 14:45:00   -9.251296\n",
       " 2023-06-28 15:15:00   -9.250424\n",
       " 2023-06-28 15:45:00   -9.240875\n",
       " Name: median_400_600Hz, Length: 1231, dtype: float64,\n",
       " time\n",
       " 2023-06-03 00:15:00   -9.433813\n",
       " 2023-06-03 00:45:00   -9.446437\n",
       " 2023-06-03 01:15:00   -9.446437\n",
       " 2023-06-03 01:45:00   -9.446437\n",
       " 2023-06-03 02:15:00   -9.446437\n",
       "                          ...   \n",
       " 2023-06-28 13:45:00   -9.264954\n",
       " 2023-06-28 14:15:00   -9.264954\n",
       " 2023-06-28 14:45:00   -9.251296\n",
       " 2023-06-28 15:15:00   -9.250424\n",
       " 2023-06-28 15:45:00   -9.240875\n",
       " Name: median_400_600Hz, Length: 1231, dtype: float64)"
      ]
     },
     "execution_count": 42,
     "metadata": {},
     "output_type": "execute_result"
    }
   ],
   "source": [
    "data_csv.median_400_600Hz, data_csv['median_400_600Hz']"
   ]
  },
  {
   "cell_type": "markdown",
   "id": "348b319c-ed1a-4a5a-a6de-73f5334f4b31",
   "metadata": {},
   "source": [
    "**Explication** : Ici, je vous montre les deux façons (communes) d'extraire des données d'une colonnes provenant d'un fichier .csv : var.column_name ou var['column_name']\n",
    "Où var est le nom de la variable sous laquelle le fichier texte est enregistrer (dans notre cas : *data_csv*) et où column_name correspond au nom de la colonne dans le fichier texte."
   ]
  },
  {
   "cell_type": "code",
   "execution_count": 43,
   "id": "3c382dc0-5cae-4fa4-974b-6b6a82dfac2b",
   "metadata": {},
   "outputs": [
    {
     "data": {
      "text/plain": [
       "Text(0, 0.5, 'Flux (L/min)')"
      ]
     },
     "execution_count": 43,
     "metadata": {},
     "output_type": "execute_result"
    },
    {
     "data": {
      "image/png": "[encoded data removed]",
      "text/plain": [
       "<Figure size 1500x300 with 1 Axes>"
      ]
     },
     "metadata": {},
     "output_type": "display_data"
    }
   ],
   "source": [
    "fig = plt.figure(figsize=(15,3))\n",
    "data_csv.median_400_600Hz.plot()\n",
    "\n",
    "plt.xlabel('Time')\n",
    "plt.ylabel('Flux (L/min)')"
   ]
  },
  {
   "cell_type": "markdown",
   "id": "29ff18c3-e695-4d5b-8df6-e08745f54746",
   "metadata": {},
   "source": [
    "**Explication** : Graphique montrant l'évolution du flux de gaz provenant d'un lac"
   ]
  },
  {
   "cell_type": "markdown",
   "id": "2d4fef82-28a6-4c23-88b4-694ad9084433",
   "metadata": {},
   "source": [
    "#### __*Exercice :*__ Importe le fichier texte 20240129T125931Z.txt situé dans /data_csv/"
   ]
  },
  {
   "cell_type": "markdown",
   "id": "2dbada90-2911-43f9-9c0f-13a24c36be5d",
   "metadata": {},
   "source": [
    "![image.png](./Images/txt_example.png)"
   ]
  },
  {
   "cell_type": "markdown",
   "id": "fb7cecfe-14f3-40d3-b3a0-258d2a5e2970",
   "metadata": {},
   "source": [
    "**Explication** : Dans cet exemple, l'importation du fichier txt demande un peu plus de précaution. Les paramètres par défaut dans la fonction <span style=\"color:blue\">*pd.read_csv()*</span> ne fonctionnent pas car ni le délimiteur, ni le séparateur de décimales sont correctes. Dans cet exemple, le délimiteur est **\\t**, c'est-à-dire une tabulation (= à 4 espaces), et le séparateur décimales est une virgule."
   ]
  },
  {
   "cell_type": "code",
   "execution_count": 44,
   "id": "802437e1-3e90-45bf-813c-89f02a402001",
   "metadata": {},
   "outputs": [],
   "source": [
    "fbg = pd.read_csv('./data_csv/20240129T125931Z.txt', delimiter='\\t', decimal = ',', index_col='Time [sec]')"
   ]
  },
  {
   "cell_type": "markdown",
   "id": "16cbb7b0-e0af-4d01-a8ce-6f67a0dda25c",
   "metadata": {},
   "source": [
    "**Explication** : La fonction <span style=\"color:blue\">*pd.read_csv()*</span> permet de lire les fichiers .csv ou .text. On y spécifie le chemin vers le fichier (qui se trouve **ici** dans le dosssier data_csv). On peut également spécifier le délimiteur (*delimiter=*) soit le caractère qui sépare les valeurs dans le fichier csv ou text ; ça peut être n'importe quel caractère mais généralement ce sont les suivants **;**, **\\t**, **,**, **/**. Le caractère par défaut est le **;**. Le paramètre *decimal=* permet de définir le séparateur pour les décimales ; généralement (et par défaut) c'est un **.** mais cela peut être une **,** particulièrement dans les pays francophones. Index_col permet de mettre une colonne en indice"
   ]
  },
  {
   "cell_type": "code",
   "execution_count": 46,
   "id": "6ff0cf65-8398-4faf-942c-5ad6e5b27369",
   "metadata": {},
   "outputs": [
    {
     "data": {
      "text/plain": [
       "Text(0, 0.5, 'Wavelength (nm)')"
      ]
     },
     "execution_count": 46,
     "metadata": {},
     "output_type": "execute_result"
    },
    {
     "data": {
      "image/png": "[encoded data removed]",
      "text/plain": [
       "<Figure size 1500x300 with 1 Axes>"
      ]
     },
     "metadata": {},
     "output_type": "display_data"
    }
   ],
   "source": [
    "fig = plt.figure(figsize=(15,3))\n",
    "fbg['Wavelength 1[nm]'].plot()\n",
    "\n",
    "plt.xlabel('Time (s)')\n",
    "plt.ylabel('Wavelength (nm)')"
   ]
  },
  {
   "cell_type": "markdown",
   "id": "eb4d71d5-c6c0-475d-a39e-e99d418fc2ea",
   "metadata": {},
   "source": [
    "**Explication** : Graphique montrant les vibrations enregistrées à partir d'une fibre optique"
   ]
  }
 ],
 "metadata": {
  "kernelspec": {
   "display_name": "Python 3 (ipykernel)",
   "language": "python",
   "name": "python3"
  },
  "language_info": {
   "codemirror_mode": {
    "name": "ipython",
    "version": 3
   },
   "file_extension": ".py",
   "mimetype": "text/x-python",
   "name": "python",
   "nbconvert_exporter": "python",
   "pygments_lexer": "ipython3",
   "version": "3.10.9"
  }
 },
 "nbformat": 4,
 "nbformat_minor": 5
}
